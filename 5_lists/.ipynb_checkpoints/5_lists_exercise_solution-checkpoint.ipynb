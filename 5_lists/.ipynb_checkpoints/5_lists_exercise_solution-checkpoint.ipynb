{
 "cells": [
  {
   "cell_type": "markdown",
   "id": "ec6efd25-7dda-4bdd-89d9-598d652eb05e",
   "metadata": {},
   "source": [
    "1. Let us say your expense for every month are listed below,\n",
    "\t1. January -  2200\n",
    " \t2. February - 2350\n",
    "    3. March - 2600\n",
    "    4. April - 2130\n",
    "    5. May - 2190\n",
    "\n",
    "Create a list to store these monthly expenses and using that find out,\n",
    "\n",
    "    1. In Feb, how many dollars you spent extra compare to January?\n",
    "    2. Find out your total expense in first quarter (first three months) of the year.\n",
    "    3. Find out if you spent exactly 2000 dollars in any month\n",
    "    4. June month just finished and your expense is 1980 dollar. Add this item to our monthly expense list\n",
    "    5. You returned an item that you bought in a month of April and\n",
    "    got a refund of 200$. Make a correction to your monthly expense list\n",
    "    based on this"
   ]
  },
  {
   "cell_type": "code",
   "execution_count": 27,
   "id": "c1a9bacd-bd61-4474-a556-b62f490eb53f",
   "metadata": {},
   "outputs": [
    {
     "name": "stdout",
     "output_type": "stream",
     "text": [
      "Solution for 1\n",
      " In the month of Jan I spent 2200, where as in Feb I spent 2350. which is higher 150 dollars high compared to January.\n",
      "Solution for 2\n",
      " My total expense in first quarter 7150 \n",
      "Solution for 3\n",
      "I havn't spent exactly 2000 in any month\n",
      "Solution for 4\n",
      " Monthly exp after june month  [2200, 2350, 2600, 2130, 2190, 1980]\n",
      "Solution for 5\n",
      " Before refund the expense list is   [2200, 2350, 2600, 2130, 2190, 1980]\n",
      " After refund the expense list is   [2200, 2350, 2600, 1930, 2190, 1980]\n"
     ]
    }
   ],
   "source": [
    "explist = [2200,2350,2600,2130,2190] #[Jan,Feb,Mar,Apr,May]\n",
    "\n",
    "print(\"Solution for 1\")\n",
    "print(f\" In the month of Jan I spent {explist[0]}, where as in Feb I spent {explist[1]}. which is higher { explist[1] - explist[0] } dollars high compared to January.\")\n",
    "\n",
    "print(\"Solution for 2\")\n",
    "expinquarter = explist[0]+explist[1]+explist[2]\n",
    "print(f\" My total expense in first quarter {expinquarter} \")\n",
    "\n",
    "print(\"Solution for 3\")\n",
    "if 2000 in explist:\n",
    "    print(\"I spent exactly 2000 in a month\" )\n",
    "else:\n",
    "    print(\"I havn't spent exactly 2000 in any month\" )\n",
    "\n",
    "print(\"Solution for 4\")\n",
    "explist.append(1980)\n",
    "print(\" Monthly exp after june month \",explist)\n",
    "\n",
    "print(\"Solution for 5\")\n",
    "print(\" Before refund the expense list is  \",explist)\n",
    "explist[3] = explist[3] - 200\n",
    "print(\" After refund the expense list is  \",explist)\n"
   ]
  },
  {
   "cell_type": "markdown",
   "id": "8ab5dab7-81f7-4681-8950-510e23806ba5",
   "metadata": {},
   "source": [
    "2. You have a list of your favourite marvel super heros.\n",
    "```\n",
    "heros=['spider man','thor','hulk','iron man','captain america']\n",
    "```\n",
    "\n",
    "Using this find out,\n",
    "\n",
    "    1. Length of the list\n",
    "    2. Add 'black panther' at the end of this list\n",
    "    3. You realize that you need to add 'black panther' after 'hulk',\n",
    "       so remove it from the list first and then add it after 'hulk'\n",
    "    4. Now you don't like thor and hulk because they get angry easily :)\n",
    "       So you want to remove thor and hulk from list and replace them with doctor strange (because he is cool).\n",
    "       Do that with one line of code.\n",
    "    5. Sort the heros list in alphabetical order (Hint. Use dir() functions to list down all functions available in list)\n",
    "\n",
    "\n"
   ]
  },
  {
   "cell_type": "code",
   "execution_count": 51,
   "id": "fa3ff78a-464d-4397-b4e9-2de4ae04b3e7",
   "metadata": {},
   "outputs": [
    {
     "name": "stdout",
     "output_type": "stream",
     "text": [
      "Solution for 1\n",
      " The length of the list 5\n",
      "Solution for 2\n",
      " New list is here ['spider man', 'thor', 'hulk', 'iron man', 'captain america', 'black panther']\n",
      "Solution for 3\n",
      " New list is here ['spider man', 'thor', 'hulk', 'iron man', 'captain america']\n",
      " New list is here ['spider man', 'thor', 'hulk', 'black panther', 'iron man', 'captain america']\n",
      "Solution for 4\n",
      " updated list is here ['spider man', 'doctor strange', 'black panther', 'iron man', 'captain america']\n",
      "Solution for 5\n",
      " sorted  list is here ['black panther', 'captain america', 'doctor strange', 'iron man', 'spider man']\n"
     ]
    }
   ],
   "source": [
    "heros=['spider man','thor','hulk','iron man','captain america']\n",
    "\n",
    "print(\"Solution for 1\")\n",
    "print(\" The length of the list\",len(heros))\n",
    "\n",
    "print(\"Solution for 2\")\n",
    "heros.append(\"black panther\")\n",
    "print(\" New list is here\", heros)\n",
    "\n",
    "print(\"Solution for 3\")\n",
    "heros.remove(\"black panther\")\n",
    "print(\" New list is here\", heros)\n",
    "heros.insert( 3,\"black panther\")\n",
    "print(\" New list is here\", heros)\n",
    "\n",
    "print(\"Solution for 4\")\n",
    "heros[1:3] = ['doctor strange']\n",
    "print(\" updated list is here\", heros)\n",
    "\n",
    "print(\"Solution for 5\")\n",
    "heros.sort()\n",
    "print(\" sorted  list is here\", heros)\n"
   ]
  },
  {
   "cell_type": "code",
   "execution_count": null,
   "id": "6dd7f16f-019e-43cd-8141-d0b76ad23712",
   "metadata": {},
   "outputs": [],
   "source": []
  }
 ],
 "metadata": {
  "kernelspec": {
   "display_name": "Python 3 (ipykernel)",
   "language": "python",
   "name": "python3"
  },
  "language_info": {
   "codemirror_mode": {
    "name": "ipython",
    "version": 3
   },
   "file_extension": ".py",
   "mimetype": "text/x-python",
   "name": "python",
   "nbconvert_exporter": "python",
   "pygments_lexer": "ipython3",
   "version": "3.12.0"
  }
 },
 "nbformat": 4,
 "nbformat_minor": 5
}
