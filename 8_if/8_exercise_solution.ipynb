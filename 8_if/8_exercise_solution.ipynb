{
 "cells": [
  {
   "cell_type": "markdown",
   "id": "d22c224e-3124-43c6-85ec-bcb1dda94f99",
   "metadata": {},
   "source": [
    "1. Using following list of cities per country,\n",
    "    ```\n",
    "    india = [\"mumbai\", \"banglore\", \"chennai\", \"delhi\"]\n",
    "    pakistan = [\"lahore\",\"karachi\",\"islamabad\"]\n",
    "    bangladesh = [\"dhaka\", \"khulna\", \"rangpur\"]\n",
    "    ```\n",
    "    1. Write a program that asks user to enter a city name and it should tell which country the city belongs to\n",
    "    2. Write a program that asks user to enter two cities and it tells you if they both are in same country or not. For example if I enter mumbai and chennai, it will print \"Both cities are in India\" but if I enter mumbai and dhaka it should print \"They don't belong to same country\""
   ]
  },
  {
   "cell_type": "code",
   "execution_count": null,
   "id": "49ed7ce0-aa7b-4e28-ac93-b9d179ec70eb",
   "metadata": {},
   "outputs": [],
   "source": [
    "#solution for 1A\n",
    "\n",
    "india = [\"mumbai\", \"banglore\", \"chennai\", \"delhi\"]\n",
    "pakistan = [\"lahore\",\"karachi\",\"islamabad\"]\n",
    "bangladesh = [\"dhaka\", \"khulna\", \"rangpur\"]\n",
    "\n",
    "print('Enter the place:')\n",
    "userinput = input()\n",
    "\n",
    "if userinput in india:\n",
    "    print(f\"This place: {userinput} is located in the India\")\n",
    "elif userinput in pakistan:\n",
    "    print(f\"This place: {userinput} is located in the pakistan\")\n",
    "elif userinput in bangladesh:\n",
    "     print(f\"This place: {userinput} is located in the bangladesh\")\n",
    "else:\n",
    "    print(\"As of the info I had cant found this place\")\n",
    "    "
   ]
  },
  {
   "cell_type": "code",
   "execution_count": null,
   "id": "d98ca778-65e6-46e0-8f35-8949333d6d37",
   "metadata": {},
   "outputs": [],
   "source": [
    "#solution for 1B\n",
    "\n",
    "india = [\"mumbai\", \"banglore\", \"chennai\", \"delhi\"]\n",
    "pakistan = [\"lahore\",\"karachi\",\"islamabad\"]\n",
    "bangladesh = [\"dhaka\", \"khulna\", \"rangpur\"]\n",
    "\n",
    "print('Enter the place1:')\n",
    "userinput1 = input()\n",
    "\n",
    "print('Enter the place2:')\n",
    "userinput2 = input()\n",
    "\n",
    "if (userinput1 in india) and (userinput2 in india):\n",
    "    print(f\"This places {userinput1} and {userinput2} is located in the India\")\n",
    "elif (userinput1 in pakistan) and (userinput2 in pakistan):\n",
    "    print(f\"This places {userinput1} and {userinput2} is located in the pakistan\")\n",
    "elif (userinput1 in bangladesh) and (userinput2 in bangladesh):\n",
    "     print(f\"This places {userinput1} and {userinput2} is located in the bangladesh\")\n",
    "else:\n",
    "    print(\"Both the places are not in the same country\")\n",
    "    \n",
    "\n"
   ]
  },
  {
   "cell_type": "markdown",
   "id": "24f1fa7c-8a00-4e6d-b551-97d41c2c03cc",
   "metadata": {},
   "source": [
    "2. Write a python program that can tell you if your sugar is normal or not. Normal fasting level sugar range is 80 to 100.\n",
    "    1. Ask user to enter his fasting sugar level\n",
    "    2. If it is below 80 to 100 range then print that sugar is low\n",
    "    3. If it is above 100 then print that it is high otherwise print that it is normal\n"
   ]
  },
  {
   "cell_type": "code",
   "execution_count": null,
   "id": "afabfbb0-09af-4191-a0ab-9cbe6e730989",
   "metadata": {},
   "outputs": [],
   "source": [
    "#solution for 2ABC\n",
    "\n",
    "print('Enter your fating sugar level:')\n",
    "userinput = input()\n",
    "\n",
    "userinput = int(userinput)\n",
    "\n",
    "if (userinput >= 80) and (userinput <= 100):\n",
    "    print(\" sugar is low\")\n",
    "elif (userinput > 100):\n",
    "    print(\"sugar is high\")\n",
    "else:\n",
    "    print(\"Sugar is normal\" )\n",
    "\n"
   ]
  },
  {
   "cell_type": "code",
   "execution_count": null,
   "id": "ca9661d7-dfc4-4afd-a7a1-57244eeef09c",
   "metadata": {},
   "outputs": [],
   "source": []
  }
 ],
 "metadata": {
  "kernelspec": {
   "display_name": "Python 3 (ipykernel)",
   "language": "python",
   "name": "python3"
  },
  "language_info": {
   "codemirror_mode": {
    "name": "ipython",
    "version": 3
   },
   "file_extension": ".py",
   "mimetype": "text/x-python",
   "name": "python",
   "nbconvert_exporter": "python",
   "pygments_lexer": "ipython3",
   "version": "3.12.0"
  }
 },
 "nbformat": 4,
 "nbformat_minor": 5
}
