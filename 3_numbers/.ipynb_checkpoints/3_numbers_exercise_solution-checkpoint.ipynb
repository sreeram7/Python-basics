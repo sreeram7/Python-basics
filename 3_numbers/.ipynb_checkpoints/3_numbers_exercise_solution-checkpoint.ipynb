{
 "cells": [
  {
   "cell_type": "markdown",
   "id": "8604832b-f9e2-4ef6-bd54-5f38c6ddc4d7",
   "metadata": {},
   "source": [
    "1. You have a football field that is 92 meter long and 48.8 meter wide. Find out total\n",
    "area using python and print it."
   ]
  },
  {
   "cell_type": "code",
   "execution_count": 9,
   "id": "6ef4b57f-dc69-4214-8943-9dbce4eba3d2",
   "metadata": {},
   "outputs": [
    {
     "name": "stdout",
     "output_type": "stream",
     "text": [
      "4489.599999999999\n"
     ]
    }
   ],
   "source": [
    "length = 92\n",
    "width = 48.8\n",
    "football_field_area =  length*width \n",
    "\n",
    "print(football_field_area)"
   ]
  },
  {
   "cell_type": "markdown",
   "id": "fcb7cf80-ea3d-48fa-900d-e4d15b2e120d",
   "metadata": {},
   "source": [
    "2. You bought 9 packets of potato chips from a store. Each packet costs 1.49 dollar\n",
    "and you gave shopkeeper 20 dollar. Find out using python, how many dollars is the shopkeeper going to give you back?"
   ]
  },
  {
   "cell_type": "code",
   "execution_count": 10,
   "id": "ce3a3632-9627-4abb-9d2f-c8352f5d8297",
   "metadata": {},
   "outputs": [
    {
     "name": "stdout",
     "output_type": "stream",
     "text": [
      "The shopkeeper return the balance amount: 6.59\n"
     ]
    }
   ],
   "source": [
    "billinusd = 20.00\n",
    "quantity_packets = 9\n",
    "price_per_packet= 1.49\n",
    "\n",
    "returned_cash = billinusd-(quantity_packets*price_per_packet)\n",
    "\n",
    "print(\"The shopkeeper return the balance amount:\",returned_cash)\n"
   ]
  },
  {
   "cell_type": "markdown",
   "id": "2b190ac5-fd25-406e-b6f7-de1e85cc3962",
   "metadata": {},
   "source": [
    "3. You want to replace tiles in your bathroom which is exactly square and 5.5 feet\n",
    "is its length. If tiles cost 500 rs per square feet, how much will be the total\n",
    "cost to replace all tiles. Calculate and print the cost using python\n",
    "(Hint: Use power operator ** to find area of a square)"
   ]
  },
  {
   "cell_type": "code",
   "execution_count": 11,
   "id": "b8e913b9-0481-4c45-8fcd-1ddfe0fe71fc",
   "metadata": {},
   "outputs": [
    {
     "name": "stdout",
     "output_type": "stream",
     "text": [
      "The total area of the bathroom is 30.25\n",
      "The total cost for tiles replacement is 15125.0 \n"
     ]
    }
   ],
   "source": [
    "lenght_of_tile = 5.5\n",
    "cost_of_tile = 500\n",
    "\n",
    "bathroom_area = lenght_of_tile**2\n",
    "\n",
    "print(f\"The total area of the bathroom is {bathroom_area}\")\n",
    "\n",
    "total_cost = cost_of_tile*bathroom_area\n",
    "\n",
    "print(f\"The total cost for tiles replacement is {total_cost} \")"
   ]
  },
  {
   "cell_type": "markdown",
   "id": "6501d408-fd5a-4f80-afd5-0a3e8d22344b",
   "metadata": {},
   "source": [
    "4. Print binary representation of number 17"
   ]
  },
  {
   "cell_type": "code",
   "execution_count": 50,
   "id": "1ac4edfe-b3b7-4655-8cd5-373b01fbaeb7",
   "metadata": {
    "scrolled": true
   },
   "outputs": [
    {
     "name": "stdout",
     "output_type": "stream",
     "text": [
      "the new bin 0\n",
      "the new num 10\n",
      "the new bin 00\n",
      "the new num 5\n",
      "the new bin 001\n",
      "the new num 2\n",
      "the new bin 0010\n",
      "the new num 1\n",
      "the new bin 00101\n",
      "the new num 0\n",
      "The binay of the number 17 is : 10100\n"
     ]
    }
   ],
   "source": [
    "num = 20\n",
    "bin = ''\n",
    "while num >0:\n",
    "    x = num%2\n",
    "    bin = bin+ str(x)\n",
    "    print(f\"the new bin {bin}\")\n",
    "    num = num//2\n",
    "    print(f\"the new num {num}\")\n",
    "\n",
    "print(f\"The binay of the number 17 is : {bin[::-1]}\")"
   ]
  },
  {
   "cell_type": "code",
   "execution_count": null,
   "id": "9a05e72b-e534-4573-8d40-9b6fc5dae982",
   "metadata": {},
   "outputs": [],
   "source": []
  }
 ],
 "metadata": {
  "kernelspec": {
   "display_name": "Python 3 (ipykernel)",
   "language": "python",
   "name": "python3"
  },
  "language_info": {
   "codemirror_mode": {
    "name": "ipython",
    "version": 3
   },
   "file_extension": ".py",
   "mimetype": "text/x-python",
   "name": "python",
   "nbconvert_exporter": "python",
   "pygments_lexer": "ipython3",
   "version": "3.12.0"
  }
 },
 "nbformat": 4,
 "nbformat_minor": 5
}
