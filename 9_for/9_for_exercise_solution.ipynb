{
 "cells": [
  {
   "cell_type": "markdown",
   "id": "0f284c50-ac49-4e9a-a9ec-1819bd973ef6",
   "metadata": {},
   "source": [
    "1. After flipping a coin 10 times you got this result,\n",
    "```\n",
    "result = [\"heads\",\"tails\",\"tails\",\"heads\",\"tails\",\"heads\",\"heads\",\"tails\",\"tails\",\"tails\"]\n",
    "```\n",
    "Using for loop figure out how many times you got heads"
   ]
  },
  {
   "cell_type": "code",
   "execution_count": null,
   "id": "f6d1ad08-04fe-4cc2-a9fc-140adf5e425e",
   "metadata": {},
   "outputs": [],
   "source": [
    "result = [\"heads\",\"tails\",\"tails\",\"heads\",\"tails\",\"heads\",\"heads\",\"tails\",\"tails\",\"tails\"]\n",
    "h = 0\n",
    "t = 0\n",
    "\n",
    "for r in result:\n",
    "    if r == 'heads':\n",
    "        h = h+1\n",
    "    else:\n",
    "        t =t+1\n",
    "print(f\" heads are {h} and tails {t}\")\n",
    "        "
   ]
  },
  {
   "cell_type": "markdown",
   "id": "19e74c44-02bc-4e7d-ba33-f09c92320da6",
   "metadata": {},
   "source": [
    "2. Print square of all numbers between 1 to 10 except even numbers"
   ]
  },
  {
   "cell_type": "code",
   "execution_count": null,
   "id": "0dad28b5-26db-4b83-b0ad-762cbd436a15",
   "metadata": {},
   "outputs": [],
   "source": [
    "for i in range(1,11):\n",
    "    if i%2 != 0:\n",
    "        print(i**2)\n",
    "        "
   ]
  },
  {
   "cell_type": "markdown",
   "id": "d4629260-8689-4f46-b946-e15d1bc10b2c",
   "metadata": {},
   "source": [
    "3. Your monthly expense list (from Jan to May) looks like this,\n",
    "```\n",
    "expense_list = [2340, 2500, 2100, 3100, 2980]\n",
    "```\n",
    "Write a program that asks you to enter an expense amount and program\n",
    "should tell you in which month that expense occurred. If expense is not\n",
    "found then it should print that as well."
   ]
  },
  {
   "cell_type": "code",
   "execution_count": null,
   "id": "29365803-14f7-41d4-8501-30e043302405",
   "metadata": {},
   "outputs": [],
   "source": [
    "expense_list = [2340, 2500, 2100, 3100, 2980]\n",
    "month_list = [\"January\", \"February\", \"March\", \"April\", \"May\"]\n",
    "\n",
    "print(\"Enter the amount to check\")\n",
    "userinput = input()\n",
    "\n",
    "userinput = int(userinput)\n",
    "\n",
    "if userinput in expense_list:\n",
    "    ind = expense_list.index(userinput)\n",
    "    print(f\"The expense {userinput} found in the month of {month_list[ind]} \")\n",
    "else:\n",
    "    print(f\"expense {userinput} is found in any month \")"
   ]
  },
  {
   "cell_type": "markdown",
   "id": "d60162fa-0425-4145-ac57-0ad5e454448c",
   "metadata": {},
   "source": [
    "4. Lets say you are running a 5 km race. Write a program that,\n",
    "   1. Upon completing each 1 km asks you \"are you tired?\"\n",
    "   2. If you reply \"yes\" then it should break and print \"you didn't finish the race\"\n",
    "   3. If you reply \"no\" then it should continue and ask \"are you tired\" on every km\n",
    "   4. If you finish all 5 km then it should print congratulations message\n"
   ]
  },
  {
   "cell_type": "code",
   "execution_count": null,
   "id": "fb3c3b7f-10eb-40f5-b324-10e8bd2c523f",
   "metadata": {},
   "outputs": [],
   "source": [
    "for r in range(5):\n",
    "    print(f\"You ran {r+1} miles\") \n",
    "    userinput = input(\"Are you tired? \")\n",
    "    if userinput == 'yes':\n",
    "        break\n",
    "\n",
    "if r == 4: \n",
    "    print(\"Hurray! You are a rock star! You just finished 5 km race!\")\n",
    "else:\n",
    "    print(f\"You didn't finish 5 km race but hey congrats anyways! You still ran {i+1} miles\")\n"
   ]
  },
  {
   "cell_type": "markdown",
   "id": "0157e91d-e7b3-4398-8071-98401be918e3",
   "metadata": {},
   "source": [
    "5. Write a program that prints following shape\n",
    "```\n",
    "*\n",
    "**\n",
    "***\n",
    "****\n",
    "*****\n",
    "```"
   ]
  },
  {
   "cell_type": "code",
   "execution_count": null,
   "id": "c74b0925-1ac2-4e09-98a1-eaef43124064",
   "metadata": {},
   "outputs": [],
   "source": [
    "for r in range(6):\n",
    "    s = ''\n",
    "    for j in range(r):\n",
    "        s += '*'\n",
    "    print(s)"
   ]
  }
 ],
 "metadata": {
  "kernelspec": {
   "display_name": "Python 3 (ipykernel)",
   "language": "python",
   "name": "python3"
  },
  "language_info": {
   "codemirror_mode": {
    "name": "ipython",
    "version": 3
   },
   "file_extension": ".py",
   "mimetype": "text/x-python",
   "name": "python",
   "nbconvert_exporter": "python",
   "pygments_lexer": "ipython3",
   "version": "3.12.0"
  }
 },
 "nbformat": 4,
 "nbformat_minor": 5
}
