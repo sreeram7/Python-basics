{
 "cells": [
  {
   "cell_type": "markdown",
   "id": "ccce72b5-bfd2-4539-a48d-279edd740896",
   "metadata": {},
   "source": [
    "1. Create 3 variables to store street, city and country, now create address variable to\n",
    "store entire address. Use two ways of creating this variable, one using + operator and the other using f-string.\n",
    "Now Print the address in such a way that the street, city and country prints in a separate line"
   ]
  },
  {
   "cell_type": "code",
   "execution_count": 11,
   "id": "4f4c41d3-54fe-4776-bdd7-865b264660a5",
   "metadata": {},
   "outputs": [
    {
     "name": "stdout",
     "output_type": "stream",
     "text": [
      "Full address using + operater is here:  Clementi Green, London, England\n",
      "Full address using f string is here : Clementi Green, London,England\n",
      "Full address in the new line : \n",
      "Clementi Green,\n",
      "London,\n",
      "England.\n"
     ]
    }
   ],
   "source": [
    "streetname = 'Clementi Green'\n",
    "cityname = 'London'\n",
    "countryname = 'England'\n",
    "\n",
    "address = streetname +\", \"+ cityname + \", \"+ countryname\n",
    "\n",
    "print(\"Full address using + operater is here: \",address)\n",
    "print(f\"Full address using f string is here : {streetname}, {cityname},{countryname}\")\n",
    "\n",
    "print(f\"Full address in the new line : \\n{streetname},\\n{cityname},\\n{countryname}.\")\n"
   ]
  },
  {
   "cell_type": "markdown",
   "id": "270dfea9-e7e5-4604-a64c-669500100f1f",
   "metadata": {},
   "source": [
    "2. Create a variable to store the string \"Earth revolves around the sun\"\n",
    "    1. Print \"revolves\" using slice operator\n",
    "    2. Print \"sun\" using negative index"
   ]
  },
  {
   "cell_type": "code",
   "execution_count": 24,
   "id": "c8652104-abc4-4714-8a2e-4afe2dab2fda",
   "metadata": {},
   "outputs": [
    {
     "name": "stdout",
     "output_type": "stream",
     "text": [
      "revolves\n",
      "sun\n"
     ]
    }
   ],
   "source": [
    "string1 = 'Earth revolves around the sun'\n",
    "\n",
    "print(string1[6:14])\n",
    "print(string1[-3:] )"
   ]
  },
  {
   "cell_type": "markdown",
   "id": "2718e7d7-5bca-423e-bd6c-d9a4d112fac4",
   "metadata": {},
   "source": [
    "3. Create two variables to store how many fruits and vegetables you eat in a day.\n",
    "Now Print \"I eat x veggies and y fruits daily\" where x and y presents vegetables and fruits that you eat everyday. Use python f string for this."
   ]
  },
  {
   "cell_type": "code",
   "execution_count": 26,
   "id": "67449771-eacb-4265-98b8-2d84e7cc0531",
   "metadata": {},
   "outputs": [
    {
     "name": "stdout",
     "output_type": "stream",
     "text": [
      "I eat 4 veggies and 2 fruits daily\n"
     ]
    }
   ],
   "source": [
    "fruits = '2'\n",
    "vegetables = '4'\n",
    "\n",
    "print(f\"I eat {vegetables} veggies and {fruits} fruits daily\" )"
   ]
  },
  {
   "cell_type": "markdown",
   "id": "424bf66b-4cda-489a-b58c-2b38592c3ad3",
   "metadata": {},
   "source": [
    "4. I have a string variable called s='maine 200 banana khaye'. This of course is a\n",
    "wrong statement, the correct statement is 'maine 10 samosa khaye'.\n",
    "Replace incorrect words in original strong with new ones and print the new string.\n",
    "Also try to do this in one line."
   ]
  },
  {
   "cell_type": "code",
   "execution_count": 33,
   "id": "7153361b-fe5e-42de-9603-af735462b45b",
   "metadata": {},
   "outputs": [
    {
     "data": {
      "text/plain": [
       "'maine 10 samosa khaye'"
      ]
     },
     "execution_count": 33,
     "metadata": {},
     "output_type": "execute_result"
    }
   ],
   "source": [
    "s='maine 200 banana khaye'\n",
    "snew = s.replace('200','10').replace('banana','samosa')\n",
    "snew"
   ]
  },
  {
   "cell_type": "code",
   "execution_count": 35,
   "id": "0929aca8-2585-48e9-8b39-cd2534df1df9",
   "metadata": {},
   "outputs": [
    {
     "name": "stdout",
     "output_type": "stream",
     "text": [
      "maine 10 samosa khaye\n"
     ]
    }
   ],
   "source": [
    "s='maine 200 banana khaye'\n",
    "snew1 = s.replace('200','10')\n",
    "snew1 = snew1.replace('banana','samosa')\n",
    "print(snew1)"
   ]
  },
  {
   "cell_type": "code",
   "execution_count": null,
   "id": "9c523886-871d-4ab3-ac84-18afc6fb6a9e",
   "metadata": {},
   "outputs": [],
   "source": []
  }
 ],
 "metadata": {
  "kernelspec": {
   "display_name": "Python 3 (ipykernel)",
   "language": "python",
   "name": "python3"
  },
  "language_info": {
   "codemirror_mode": {
    "name": "ipython",
    "version": 3
   },
   "file_extension": ".py",
   "mimetype": "text/x-python",
   "name": "python",
   "nbconvert_exporter": "python",
   "pygments_lexer": "ipython3",
   "version": "3.12.0"
  }
 },
 "nbformat": 4,
 "nbformat_minor": 5
}
